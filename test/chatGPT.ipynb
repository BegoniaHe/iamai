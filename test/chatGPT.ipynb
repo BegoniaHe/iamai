{
 "cells": [
  {
   "cell_type": "code",
   "execution_count": 1,
   "metadata": {},
   "outputs": [
    {
     "ename": "Error",
     "evalue": "",
     "output_type": "error",
     "traceback": [
      "\u001b[1;31m---------------------------------------------------------------------------\u001b[0m",
      "\u001b[1;31mError\u001b[0m                                     Traceback (most recent call last)",
      "Cell \u001b[1;32mIn[1], line 3\u001b[0m\n\u001b[0;32m      1\u001b[0m \u001b[39mfrom\u001b[39;00m \u001b[39mrevChatGPT\u001b[39;00m\u001b[39m.\u001b[39;00m\u001b[39mV1\u001b[39;00m \u001b[39mimport\u001b[39;00m Chatbot\n\u001b[1;32m----> 3\u001b[0m chatbot \u001b[39m=\u001b[39m Chatbot(config\u001b[39m=\u001b[39;49m{\n\u001b[0;32m      4\u001b[0m   \u001b[39m\"\u001b[39;49m\u001b[39memail\u001b[39;49m\u001b[39m\"\u001b[39;49m: \u001b[39m\"\u001b[39;49m\u001b[39mkalinhashim0@outlook.com\u001b[39;49m\u001b[39m\"\u001b[39;49m,\n\u001b[0;32m      5\u001b[0m   \u001b[39m\"\u001b[39;49m\u001b[39mpassword\u001b[39;49m\u001b[39m\"\u001b[39;49m: \u001b[39m\"\u001b[39;49m\u001b[39m----GXVWGP38\u001b[39;49m\u001b[39m\"\u001b[39;49m\n\u001b[0;32m      6\u001b[0m })\n\u001b[0;32m      8\u001b[0m \u001b[39mprint\u001b[39m(\u001b[39m\"\u001b[39m\u001b[39mChatbot: \u001b[39m\u001b[39m\"\u001b[39m)\n\u001b[0;32m      9\u001b[0m prev_text \u001b[39m=\u001b[39m \u001b[39m\"\u001b[39m\u001b[39m\"\u001b[39m\n",
      "File \u001b[1;32m~\\AppData\\Local\\Programs\\Python\\Python310\\Lib\\site-packages\\revChatGPT\\V1.py:68\u001b[0m, in \u001b[0;36mChatbot.__init__\u001b[1;34m(self, config, conversation_id, parent_id)\u001b[0m\n\u001b[0;32m     66\u001b[0m     \u001b[39mself\u001b[39m\u001b[39m.\u001b[39m__login()\n\u001b[0;32m     67\u001b[0m \u001b[39mexcept\u001b[39;00m AuthError \u001b[39mas\u001b[39;00m error:\n\u001b[1;32m---> 68\u001b[0m     \u001b[39mraise\u001b[39;00m error\n",
      "File \u001b[1;32m~\\AppData\\Local\\Programs\\Python\\Python310\\Lib\\site-packages\\revChatGPT\\V1.py:66\u001b[0m, in \u001b[0;36mChatbot.__init__\u001b[1;34m(self, config, conversation_id, parent_id)\u001b[0m\n\u001b[0;32m     64\u001b[0m \u001b[39mif\u001b[39;00m \u001b[39m\"\u001b[39m\u001b[39maccess_token\u001b[39m\u001b[39m\"\u001b[39m \u001b[39mnot\u001b[39;00m \u001b[39min\u001b[39;00m config:\n\u001b[0;32m     65\u001b[0m     \u001b[39mtry\u001b[39;00m:\n\u001b[1;32m---> 66\u001b[0m         \u001b[39mself\u001b[39;49m\u001b[39m.\u001b[39;49m__login()\n\u001b[0;32m     67\u001b[0m     \u001b[39mexcept\u001b[39;00m AuthError \u001b[39mas\u001b[39;00m error:\n\u001b[0;32m     68\u001b[0m         \u001b[39mraise\u001b[39;00m error\n",
      "File \u001b[1;32m~\\AppData\\Local\\Programs\\Python\\Python310\\Lib\\site-packages\\revChatGPT\\V1.py:102\u001b[0m, in \u001b[0;36mChatbot.__login\u001b[1;34m(self)\u001b[0m\n\u001b[0;32m    100\u001b[0m         \u001b[39mreturn\u001b[39;00m\n\u001b[0;32m    101\u001b[0m \u001b[39melse\u001b[39;00m:\n\u001b[1;32m--> 102\u001b[0m     auth\u001b[39m.\u001b[39;49mbegin()\n\u001b[0;32m    103\u001b[0m     \u001b[39mself\u001b[39m\u001b[39m.\u001b[39mconfig[\u001b[39m\"\u001b[39m\u001b[39msession_token\u001b[39m\u001b[39m\"\u001b[39m] \u001b[39m=\u001b[39m auth\u001b[39m.\u001b[39msession_token\n\u001b[0;32m    104\u001b[0m     auth\u001b[39m.\u001b[39mget_access_token()\n",
      "File \u001b[1;32m~\\AppData\\Local\\Programs\\Python\\Python310\\Lib\\site-packages\\OpenAIAuth.py:76\u001b[0m, in \u001b[0;36mAuthenticator.begin\u001b[1;34m(self)\u001b[0m\n\u001b[0;32m     74\u001b[0m \u001b[39mif\u001b[39;00m response\u001b[39m.\u001b[39mstatus_code \u001b[39m==\u001b[39m \u001b[39m200\u001b[39m \u001b[39mand\u001b[39;00m \u001b[39m\"\u001b[39m\u001b[39mjson\u001b[39m\u001b[39m\"\u001b[39m \u001b[39min\u001b[39;00m response\u001b[39m.\u001b[39mheaders[\u001b[39m\"\u001b[39m\u001b[39mContent-Type\u001b[39m\u001b[39m\"\u001b[39m]:\n\u001b[0;32m     75\u001b[0m     csrf_token \u001b[39m=\u001b[39m response\u001b[39m.\u001b[39mjson()[\u001b[39m\"\u001b[39m\u001b[39mcsrfToken\u001b[39m\u001b[39m\"\u001b[39m]\n\u001b[1;32m---> 76\u001b[0m     \u001b[39mself\u001b[39;49m\u001b[39m.\u001b[39;49m__part_one(token\u001b[39m=\u001b[39;49mcsrf_token)\n\u001b[0;32m     77\u001b[0m \u001b[39melse\u001b[39;00m:\n\u001b[0;32m     78\u001b[0m     \u001b[39mraise\u001b[39;00m Error(\n\u001b[0;32m     79\u001b[0m         location\u001b[39m=\u001b[39m\u001b[39m\"\u001b[39m\u001b[39mbegin\u001b[39m\u001b[39m\"\u001b[39m,\n\u001b[0;32m     80\u001b[0m         status_code\u001b[39m=\u001b[39mresponse\u001b[39m.\u001b[39mstatus_code,\n\u001b[0;32m     81\u001b[0m         details\u001b[39m=\u001b[39mresponse\u001b[39m.\u001b[39mtext,\n\u001b[0;32m     82\u001b[0m     )\n",
      "File \u001b[1;32m~\\AppData\\Local\\Programs\\Python\\Python310\\Lib\\site-packages\\OpenAIAuth.py:117\u001b[0m, in \u001b[0;36mAuthenticator.__part_one\u001b[1;34m(self, token)\u001b[0m\n\u001b[0;32m    107\u001b[0m     \u001b[39mif\u001b[39;00m (\n\u001b[0;32m    108\u001b[0m         url\n\u001b[0;32m    109\u001b[0m         \u001b[39m==\u001b[39m \u001b[39m\"\u001b[39m\u001b[39mhttps://explorer.api.openai.com/api/auth/error?error=OAuthSignin\u001b[39m\u001b[39m\"\u001b[39m\n\u001b[0;32m    110\u001b[0m         \u001b[39mor\u001b[39;00m \u001b[39m\"\u001b[39m\u001b[39merror\u001b[39m\u001b[39m\"\u001b[39m \u001b[39min\u001b[39;00m url\n\u001b[0;32m    111\u001b[0m     ):\n\u001b[0;32m    112\u001b[0m         \u001b[39mraise\u001b[39;00m Error(\n\u001b[0;32m    113\u001b[0m             location\u001b[39m=\u001b[39m\u001b[39m\"\u001b[39m\u001b[39m__part_one\u001b[39m\u001b[39m\"\u001b[39m,\n\u001b[0;32m    114\u001b[0m             status_code\u001b[39m=\u001b[39mresponse\u001b[39m.\u001b[39mstatus_code,\n\u001b[0;32m    115\u001b[0m             details\u001b[39m=\u001b[39m\u001b[39m\"\u001b[39m\u001b[39mYou have been rate limited. Please try again later.\u001b[39m\u001b[39m\"\u001b[39m,\n\u001b[0;32m    116\u001b[0m         )\n\u001b[1;32m--> 117\u001b[0m     \u001b[39mself\u001b[39;49m\u001b[39m.\u001b[39;49m__part_two(url\u001b[39m=\u001b[39;49murl)\n\u001b[0;32m    118\u001b[0m \u001b[39melse\u001b[39;00m:\n\u001b[0;32m    119\u001b[0m     \u001b[39mraise\u001b[39;00m Error(\n\u001b[0;32m    120\u001b[0m         location\u001b[39m=\u001b[39m\u001b[39m\"\u001b[39m\u001b[39m__part_one\u001b[39m\u001b[39m\"\u001b[39m,\n\u001b[0;32m    121\u001b[0m         status_code\u001b[39m=\u001b[39mresponse\u001b[39m.\u001b[39mstatus_code,\n\u001b[0;32m    122\u001b[0m         details\u001b[39m=\u001b[39mresponse\u001b[39m.\u001b[39mtext,\n\u001b[0;32m    123\u001b[0m     )\n",
      "File \u001b[1;32m~\\AppData\\Local\\Programs\\Python\\Python310\\Lib\\site-packages\\OpenAIAuth.py:146\u001b[0m, in \u001b[0;36mAuthenticator.__part_two\u001b[1;34m(self, url)\u001b[0m\n\u001b[0;32m    144\u001b[0m     state \u001b[39m=\u001b[39m re\u001b[39m.\u001b[39mfindall(\u001b[39mr\u001b[39m\u001b[39m\"\u001b[39m\u001b[39mstate=(.*)\u001b[39m\u001b[39m\"\u001b[39m, response\u001b[39m.\u001b[39mtext)[\u001b[39m0\u001b[39m]\n\u001b[0;32m    145\u001b[0m     state \u001b[39m=\u001b[39m state\u001b[39m.\u001b[39msplit(\u001b[39m'\u001b[39m\u001b[39m\"\u001b[39m\u001b[39m'\u001b[39m)[\u001b[39m0\u001b[39m]\n\u001b[1;32m--> 146\u001b[0m     \u001b[39mself\u001b[39;49m\u001b[39m.\u001b[39;49m__part_three(state\u001b[39m=\u001b[39;49mstate)\n\u001b[0;32m    147\u001b[0m \u001b[39melse\u001b[39;00m:\n\u001b[0;32m    148\u001b[0m     \u001b[39mraise\u001b[39;00m Error(\n\u001b[0;32m    149\u001b[0m         location\u001b[39m=\u001b[39m\u001b[39m\"\u001b[39m\u001b[39m__part_two\u001b[39m\u001b[39m\"\u001b[39m,\n\u001b[0;32m    150\u001b[0m         status_code\u001b[39m=\u001b[39mresponse\u001b[39m.\u001b[39mstatus_code,\n\u001b[0;32m    151\u001b[0m         details\u001b[39m=\u001b[39mresponse\u001b[39m.\u001b[39mtext,\n\u001b[0;32m    152\u001b[0m     )\n",
      "File \u001b[1;32m~\\AppData\\Local\\Programs\\Python\\Python310\\Lib\\site-packages\\OpenAIAuth.py:170\u001b[0m, in \u001b[0;36mAuthenticator.__part_three\u001b[1;34m(self, state)\u001b[0m\n\u001b[0;32m    168\u001b[0m response \u001b[39m=\u001b[39m \u001b[39mself\u001b[39m\u001b[39m.\u001b[39msession\u001b[39m.\u001b[39mget(url, headers\u001b[39m=\u001b[39mheaders)\n\u001b[0;32m    169\u001b[0m \u001b[39mif\u001b[39;00m response\u001b[39m.\u001b[39mstatus_code \u001b[39m==\u001b[39m \u001b[39m200\u001b[39m:\n\u001b[1;32m--> 170\u001b[0m     \u001b[39mself\u001b[39;49m\u001b[39m.\u001b[39;49m__part_four(state\u001b[39m=\u001b[39;49mstate)\n\u001b[0;32m    171\u001b[0m \u001b[39melse\u001b[39;00m:\n\u001b[0;32m    172\u001b[0m     \u001b[39mraise\u001b[39;00m Error(\n\u001b[0;32m    173\u001b[0m         location\u001b[39m=\u001b[39m\u001b[39m\"\u001b[39m\u001b[39m__part_three\u001b[39m\u001b[39m\"\u001b[39m,\n\u001b[0;32m    174\u001b[0m         status_code\u001b[39m=\u001b[39mresponse\u001b[39m.\u001b[39mstatus_code,\n\u001b[0;32m    175\u001b[0m         details\u001b[39m=\u001b[39mresponse\u001b[39m.\u001b[39mtext,\n\u001b[0;32m    176\u001b[0m     )\n",
      "File \u001b[1;32m~\\AppData\\Local\\Programs\\Python\\Python310\\Lib\\site-packages\\OpenAIAuth.py:208\u001b[0m, in \u001b[0;36mAuthenticator.__part_four\u001b[1;34m(self, state)\u001b[0m\n\u001b[0;32m    202\u001b[0m response \u001b[39m=\u001b[39m \u001b[39mself\u001b[39m\u001b[39m.\u001b[39msession\u001b[39m.\u001b[39mpost(\n\u001b[0;32m    203\u001b[0m     url,\n\u001b[0;32m    204\u001b[0m     headers\u001b[39m=\u001b[39mheaders,\n\u001b[0;32m    205\u001b[0m     data\u001b[39m=\u001b[39mpayload,\n\u001b[0;32m    206\u001b[0m )\n\u001b[0;32m    207\u001b[0m \u001b[39mif\u001b[39;00m response\u001b[39m.\u001b[39mstatus_code \u001b[39m==\u001b[39m \u001b[39m302\u001b[39m \u001b[39mor\u001b[39;00m response\u001b[39m.\u001b[39mstatus_code \u001b[39m==\u001b[39m \u001b[39m200\u001b[39m:\n\u001b[1;32m--> 208\u001b[0m     \u001b[39mself\u001b[39;49m\u001b[39m.\u001b[39;49m__part_five(state\u001b[39m=\u001b[39;49mstate)\n\u001b[0;32m    209\u001b[0m \u001b[39melse\u001b[39;00m:\n\u001b[0;32m    210\u001b[0m     \u001b[39mraise\u001b[39;00m Error(\n\u001b[0;32m    211\u001b[0m         location\u001b[39m=\u001b[39m\u001b[39m\"\u001b[39m\u001b[39m__part_four\u001b[39m\u001b[39m\"\u001b[39m,\n\u001b[0;32m    212\u001b[0m         status_code\u001b[39m=\u001b[39mresponse\u001b[39m.\u001b[39mstatus_code,\n\u001b[0;32m    213\u001b[0m         details\u001b[39m=\u001b[39m\u001b[39m\"\u001b[39m\u001b[39mYour email address is invalid.\u001b[39m\u001b[39m\"\u001b[39m,\n\u001b[0;32m    214\u001b[0m     )\n",
      "File \u001b[1;32m~\\AppData\\Local\\Programs\\Python\\Python310\\Lib\\site-packages\\OpenAIAuth.py:247\u001b[0m, in \u001b[0;36mAuthenticator.__part_five\u001b[1;34m(self, state)\u001b[0m\n\u001b[0;32m    245\u001b[0m     \u001b[39mself\u001b[39m\u001b[39m.\u001b[39m__part_six(old_state\u001b[39m=\u001b[39mstate, new_state\u001b[39m=\u001b[39mnew_state)\n\u001b[0;32m    246\u001b[0m \u001b[39melse\u001b[39;00m:\n\u001b[1;32m--> 247\u001b[0m     \u001b[39mraise\u001b[39;00m Error(\n\u001b[0;32m    248\u001b[0m         location\u001b[39m=\u001b[39m\u001b[39m\"\u001b[39m\u001b[39m__part_five\u001b[39m\u001b[39m\"\u001b[39m,\n\u001b[0;32m    249\u001b[0m         status_code\u001b[39m=\u001b[39mresponse\u001b[39m.\u001b[39mstatus_code,\n\u001b[0;32m    250\u001b[0m         details\u001b[39m=\u001b[39m\u001b[39m\"\u001b[39m\u001b[39mYour credentials are invalid.\u001b[39m\u001b[39m\"\u001b[39m,\n\u001b[0;32m    251\u001b[0m     )\n",
      "\u001b[1;31mError\u001b[0m: "
     ]
    }
   ],
   "source": [
    "from revChatGPT.V1 import Chatbot\n",
    "\n",
    "chatbot = Chatbot(config={\n",
    "  \"email\": \"kalinhashim0@outlook.com\",\n",
    "  \"password\": \"----GXVWGP38\"\n",
    "})\n",
    "\n",
    "print(\"Chatbot: \")\n",
    "prev_text = \"\"\n",
    "for data in chatbot.ask(\n",
    "    \"Hello world\",\n",
    "):\n",
    "    message = data[\"message\"][len(prev_text) :]\n",
    "    print(message, end=\"\", flush=True)\n",
    "    prev_text = data[\"message\"]\n",
    "print()"
   ]
  },
  {
   "cell_type": "code",
   "execution_count": null,
   "metadata": {},
   "outputs": [],
   "source": []
  }
 ],
 "metadata": {
  "kernelspec": {
   "display_name": "Python 3",
   "language": "python",
   "name": "python3"
  },
  "language_info": {
   "codemirror_mode": {
    "name": "ipython",
    "version": 3
   },
   "file_extension": ".py",
   "mimetype": "text/x-python",
   "name": "python",
   "nbconvert_exporter": "python",
   "pygments_lexer": "ipython3",
   "version": "3.10.7"
  },
  "orig_nbformat": 4,
  "vscode": {
   "interpreter": {
    "hash": "05be7c6afe246650a1f599c0fe6410ea951f819d6c258a4f18a043cafbec937f"
   }
  }
 },
 "nbformat": 4,
 "nbformat_minor": 2
}
